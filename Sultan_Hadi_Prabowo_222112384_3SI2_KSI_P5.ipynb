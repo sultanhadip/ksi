{
  "nbformat": 4,
  "nbformat_minor": 0,
  "metadata": {
    "colab": {
      "provenance": []
    },
    "kernelspec": {
      "name": "python3",
      "display_name": "Python 3"
    },
    "language_info": {
      "name": "python"
    }
  },
  "cells": [
    {
      "cell_type": "markdown",
      "source": [
        "Nama : Sultan Hadi Prabowo\n",
        "\n",
        "NIM : 222112384  \n",
        "Kelas : 3SI2  "
      ],
      "metadata": {
        "id": "4U61WgK4Uv2c"
      }
    },
    {
      "cell_type": "markdown",
      "source": [
        "## Transposition **Ciphers**"
      ],
      "metadata": {
        "id": "n52xliu4i4vG"
      }
    },
    {
      "cell_type": "code",
      "source": [
        "import math"
      ],
      "metadata": {
        "id": "49mhJc38UwLs"
      },
      "execution_count": 17,
      "outputs": []
    },
    {
      "cell_type": "code",
      "source": [
        "# Encryption\n",
        "def encryptMessage(key, message):\n",
        "    cipherText = [\"\"] * key\n",
        "    for col in range(key):\n",
        "        pointer = col\n",
        "        while pointer < len(message):\n",
        "            cipherText[col] += message[pointer]\n",
        "            pointer += key\n",
        "    return \"\".join(cipherText)"
      ],
      "metadata": {
        "id": "24lupl5U-14y"
      },
      "execution_count": 18,
      "outputs": []
    },
    {
      "cell_type": "code",
      "source": [
        "# Decryption\n",
        "def decryptMessage(key, message):\n",
        "    numCols = math.ceil(len(message) / key)\n",
        "    numRows = key\n",
        "    numShadedBoxes = (numCols * numRows) - len(message)\n",
        "    plainText = [\"\"] * numCols\n",
        "    col = 0\n",
        "    row = 0\n",
        "\n",
        "    for symbol in message:\n",
        "        plainText[col] += symbol\n",
        "        col += 1\n",
        "\n",
        "        if (\n",
        "            (col == numCols)\n",
        "            or (col == numCols - 1)\n",
        "            and (row >= numRows - numShadedBoxes)\n",
        "        ):\n",
        "            col = 0\n",
        "            row += 1\n",
        "\n",
        "    return \"\".join(plainText)"
      ],
      "metadata": {
        "id": "ZlC0O3qE-4a4"
      },
      "execution_count": 19,
      "outputs": []
    },
    {
      "cell_type": "code",
      "source": [
        "# Input dari pengguna\n",
        "message = input(\"Masukkan teks: \")\n",
        "key = int(input(\"Masukkan kunci [2-%s]: \" % (len(message) - 1)))\n",
        "mode = input(\"Enkripsi/Dekripsi [E/D]: \")\n",
        "\n",
        "if mode.lower().startswith(\"e\"):\n",
        "    text = encryptMessage(key, message)\n",
        "elif mode.lower().startswith(\"d\"):\n",
        "    text = decryptMessage(key, message)\n",
        "\n",
        "print(\"Output:\\n%s\" % (text))"
      ],
      "metadata": {
        "colab": {
          "base_uri": "https://localhost:8080/"
        },
        "id": "btHpWDy1-6df",
        "outputId": "2dc378e3-656e-4da4-ef04-4bd958df3a9c"
      },
      "execution_count": 41,
      "outputs": [
        {
          "output_type": "stream",
          "name": "stdout",
          "text": [
            "Masukkan teks: pktiionakslitaiki t ssestt\n",
            "Masukkan kunci [2-25]: 6\n",
            "Enkripsi/Dekripsi [E/D]: D\n",
            "Output:\n",
            "politeknik statistika stis\n"
          ]
        }
      ]
    },
    {
      "cell_type": "markdown",
      "source": [
        "## Substitution Ciphers\n",
        "\n"
      ],
      "metadata": {
        "id": "_IT9uWwmUuse"
      }
    },
    {
      "cell_type": "code",
      "source": [
        "import random"
      ],
      "metadata": {
        "id": "tUOGibzkfkV4"
      },
      "execution_count": 32,
      "outputs": []
    },
    {
      "cell_type": "code",
      "source": [
        "# Encryption\n",
        "def encrypt(plaintext, key, alphabet):\n",
        "    keyMap = dict(zip(alphabet, key))\n",
        "    return ''.join(keyMap.get(c.lower(), c) for c in plaintext)\n"
      ],
      "metadata": {
        "id": "Bked5dxggTMZ"
      },
      "execution_count": 33,
      "outputs": []
    },
    {
      "cell_type": "code",
      "source": [
        "# Decryption\n",
        "def decrypt(cipher, key, alphabet):\n",
        "    keyMap = dict(zip(key, alphabet))\n",
        "    return ''.join(keyMap.get(c.lower(), c) for c in cipher)"
      ],
      "metadata": {
        "id": "lxq9LxHEgV6O"
      },
      "execution_count": 34,
      "outputs": []
    },
    {
      "cell_type": "code",
      "source": [
        "def generate_random_key(alphabet):\n",
        "    key = list(alphabet)\n",
        "    random.shuffle(key)\n",
        "    return ''.join(key)\n",
        "\n",
        "# Alfabet yang digunakan dalam enkripsi dan dekripsi\n",
        "alphabet = \"abcdefghijklmnopqrstuvwxyz\"\n",
        "\n",
        "# Input dari pengguna\n",
        "message = input(\"Masukkan teks: \")\n",
        "key = int(input(\"Masukkan kunci [2-%s]: \" % (len(message) - 1)))\n",
        "mode = input(\"Enkripsi/Dekripsi [E/D]: \")\n",
        "\n",
        "# Enkripsi atau dekripsi sesuai dengan input pengguna\n",
        "if mode.lower().startswith(\"e\"):\n",
        "    encryption_key = generate_random_key(alphabet)\n",
        "    ciphertext = encrypt(message, encryption_key, alphabet)\n",
        "    print(\"Teks Terenkripsi:\", ciphertext)\n",
        "    print(\"Kunci Enkripsi:\", encryption_key)\n",
        "elif mode.lower().startswith(\"d\"):\n",
        "    decryption_key = input(\"Masukkan kunci dekripsi: \")\n",
        "    decrypted_text = decrypt(message, decryption_key, alphabet)\n",
        "    print(\"Teks Terdekripsi:\", decrypted_text)\n",
        "else:\n",
        "    print(\"Mode tidak valid. Harap pilih 'E' untuk enkripsi atau 'D' untuk dekripsi.\")"
      ],
      "metadata": {
        "colab": {
          "base_uri": "https://localhost:8080/"
        },
        "id": "F2CG5WAsgYx_",
        "outputId": "4b92a329-4de8-4af4-8352-c469376ad734"
      },
      "execution_count": 38,
      "outputs": [
        {
          "output_type": "stream",
          "name": "stdout",
          "text": [
            "Masukkan teks: docfeybrfb aenefaefbn aefa\n",
            "Masukkan kunci [2-25]: 2\n",
            "Enkripsi/Dekripsi [E/D]: D\n",
            "Masukkan kunci dekripsi: nutiyvxqflbcjrodhkaewspzgm\n",
            "Teks Terdekripsi: politeknik statistika stis\n"
          ]
        }
      ]
    }
  ]
}